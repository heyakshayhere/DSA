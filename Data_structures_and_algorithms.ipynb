{
  "nbformat": 4,
  "nbformat_minor": 0,
  "metadata": {
    "colab": {
      "name": "Data structures and algorithms.ipynb",
      "provenance": [],
      "collapsed_sections": []
    },
    "kernelspec": {
      "name": "python3",
      "display_name": "Python 3"
    },
    "language_info": {
      "name": "python"
    }
  },
  "cells": [
    {
      "cell_type": "markdown",
      "source": [
        "[exercises and solutions](https://www.w3resource.com/python-exercises/class-exercises/)"
      ],
      "metadata": {
        "id": "wmvecuH-PMfV"
      }
    },
    {
      "cell_type": "markdown",
      "source": [
        " Write a Python class to find the three elements that sum to zero from a set of n real numbers.\n",
        "\n",
        "Input array : [-25, -10, -7, -3, 2, 4, 8, 10]\n",
        "\n",
        "Output : [[-10, 2, 8], [-7, -3, 10]]"
      ],
      "metadata": {
        "id": "Og-1iRcM_NmD"
      }
    },
    {
      "cell_type": "code",
      "source": [
        "#input only accepts int\n",
        "sys_in = []\n",
        "for x in input(\"input array (separate numbers by space (format:int)): \").split(\" \"):\n",
        "  try:\n",
        "    sys_in.append(int(x))\n",
        "  except:\n",
        "    pass\n",
        "\n",
        "#testing list \n",
        "# sys_in = [-25, -10, -7, -3, 2, 4, 8, 10]\n",
        "\n",
        "#creating combinations \n",
        "from itertools import combinations\n",
        "comb = combinations(sys_in, 3)\n",
        "\n",
        "possible_combinantions = []\n",
        "# appending the obtained combinations\n",
        "for i in list(comb):\n",
        "  possible_combinantions.append(i)\n",
        "\n",
        "#getting combinations with zero sum into the list\n",
        "zero = []\n",
        "for c in possible_combinantions :\n",
        "  if sum(c) == 0:\n",
        "    zero.append(list(c))\n",
        "\n",
        "#removing similarities\n",
        "clean_zero = []\n",
        "\n",
        "for z in zero:\n",
        "  if z not in clean_zero:\n",
        "    clean_zero.append(z)\n",
        "  else:\n",
        "    pass\n",
        "\n",
        "print(f\"\\ncombinations having zero sum : {clean_zero}\")"
      ],
      "metadata": {
        "colab": {
          "base_uri": "https://localhost:8080/"
        },
        "id": "4n8UAmUM-5gD",
        "outputId": "208faf50-8566-4847-ca92-1ddaac4fa1f7"
      },
      "execution_count": null,
      "outputs": [
        {
          "output_type": "stream",
          "name": "stdout",
          "text": [
            "input array (separate numbers by space (format:int)): 1 2  3 4 2 66 -66 -2 - 3 -5 12 -16 -12 0\n",
            "\n",
            "combinations having zero sum : [[1, 4, -5], [2, 3, -5], [2, -2, 0], [3, 2, -5], [4, 12, -16], [66, -66, 0], [12, -12, 0]]\n"
          ]
        }
      ]
    },
    {
      "cell_type": "markdown",
      "source": [
        "\n",
        "\n",
        "---\n",
        "\n"
      ],
      "metadata": {
        "id": "KHi8DSEoPLIb"
      }
    },
    {
      "cell_type": "code",
      "source": [
        ""
      ],
      "metadata": {
        "id": "oi5ffPG4OlI_"
      },
      "execution_count": null,
      "outputs": []
    },
    {
      "cell_type": "code",
      "source": [
        ""
      ],
      "metadata": {
        "id": "c9KJb6GvOlGM"
      },
      "execution_count": null,
      "outputs": []
    },
    {
      "cell_type": "code",
      "source": [
        ""
      ],
      "metadata": {
        "id": "mwId07yJOk-d"
      },
      "execution_count": null,
      "outputs": []
    }
  ]
}