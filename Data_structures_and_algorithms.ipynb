{
  "nbformat": 4,
  "nbformat_minor": 0,
  "metadata": {
    "colab": {
      "name": "Data structures and algorithms.ipynb",
      "provenance": [],
      "collapsed_sections": []
    },
    "kernelspec": {
      "name": "python3",
      "display_name": "Python 3"
    },
    "language_info": {
      "name": "python"
    }
  },
  "cells": [
    {
      "cell_type": "markdown",
      "source": [
        "[exercises and solutions](https://www.w3resource.com/python-exercises/class-exercises/)"
      ],
      "metadata": {
        "id": "wmvecuH-PMfV"
      }
    },
    {
      "cell_type": "markdown",
      "source": [
        " Write a Python class to find the three elements that sum to zero from a set of n real numbers.\n",
        "\n",
        "Input array : [-25, -10, -7, -3, 2, 4, 8, 10]\n",
        "\n",
        "Output : [[-10, 2, 8], [-7, -3, 10]]"
      ],
      "metadata": {
        "id": "Og-1iRcM_NmD"
      }
    },
    {
      "cell_type": "code",
      "source": [
        "#input only accepts int\n",
        "sys_in = []\n",
        "for x in input(\"input array (separate numbers by space (format:int)): \").split(\" \"):\n",
        "  try:\n",
        "    sys_in.append(int(x))\n",
        "  except:\n",
        "    pass\n",
        "\n",
        "#testing list \n",
        "# sys_in = [-25, -10, -7, -3, 2, 4, 8, 10]\n",
        "\n",
        "#creating combinations \n",
        "from itertools import combinations\n",
        "comb = combinations(sys_in, 3)\n",
        "\n",
        "possible_combinantions = []\n",
        "# appending the obtained combinations\n",
        "for i in list(comb):\n",
        "  possible_combinantions.append(i)\n",
        "\n",
        "#getting combinations with zero sum into the list\n",
        "zero = []\n",
        "for c in possible_combinantions :\n",
        "  if sum(c) == 0:\n",
        "    zero.append(list(c))\n",
        "\n",
        "#removing similarities\n",
        "clean_zero = []\n",
        "\n",
        "for z in zero:\n",
        "  if z not in clean_zero:\n",
        "    clean_zero.append(z)\n",
        "  else:\n",
        "    pass\n",
        "\n",
        "print(f\"\\ncombinations having zero sum : {clean_zero}\")"
      ],
      "metadata": {
        "colab": {
          "base_uri": "https://localhost:8080/"
        },
        "id": "4n8UAmUM-5gD",
        "outputId": "208faf50-8566-4847-ca92-1ddaac4fa1f7"
      },
      "execution_count": null,
      "outputs": [
        {
          "output_type": "stream",
          "name": "stdout",
          "text": [
            "input array (separate numbers by space (format:int)): 1 2  3 4 2 66 -66 -2 - 3 -5 12 -16 -12 0\n",
            "\n",
            "combinations having zero sum : [[1, 4, -5], [2, 3, -5], [2, -2, 0], [3, 2, -5], [4, 12, -16], [66, -66, 0], [12, -12, 0]]\n"
          ]
        }
      ]
    },
    {
      "cell_type": "markdown",
      "source": [
        "\n",
        "\n",
        "---\n",
        "\n"
      ],
      "metadata": {
        "id": "KHi8DSEoPLIb"
      }
    },
    {
      "cell_type": "markdown",
      "source": [
        "stone paper scissor game \n",
        "(the game of probabilities)"
      ],
      "metadata": {
        "id": "o7LMd8_c7KRN"
      }
    },
    {
      "cell_type": "code",
      "source": [
        "from random import choice\n",
        "\n",
        "comp_list = ['stone' ,'paper', 'scissor']\n",
        "\n",
        "print(\"COMP vs USER\\n\")\n",
        "\n",
        "score = []\n",
        "draws = []\n",
        "rounds = 3\n",
        "counter= 1\n",
        "while counter <= rounds:\n",
        "    comp_choice = choice(comp_list)\n",
        "    user_input = choice(comp_list)\n",
        "    #user_input = 'scissor'\n",
        "    print (f\"{comp_choice} vs {user_input}\")\n",
        "\n",
        "    if user_input == comp_choice:\n",
        "        print(\"draw\\n\")\n",
        "        draws.append(1)\n",
        "        counter -=1\n",
        "    elif (user_input == 'stone' and comp_choice =='paper') or (user_input == 'scissor' and comp_choice =='stone') or (user_input == 'paper' and comp_choice =='scissor'):\n",
        "        print(\"comp wins\\n\")\n",
        "        score.append(0)\n",
        "    else:\n",
        "        print(\"user wins\\n\" )\n",
        "        score.append(1)\n",
        "    counter +=1\n",
        "print (f\"your score is {sum(score)} out of {rounds}\")\n",
        "print (f\"total draw = {sum(draws)}\")"
      ],
      "metadata": {
        "colab": {
          "base_uri": "https://localhost:8080/"
        },
        "id": "Idelj5aeKavR",
        "outputId": "6a05cff4-3dfa-4c4e-9b94-3d34816da338"
      },
      "execution_count": null,
      "outputs": [
        {
          "output_type": "stream",
          "name": "stdout",
          "text": [
            "COMP vs USER\n",
            "\n",
            "scissor vs scissor\n",
            "draw\n",
            "\n",
            "scissor vs stone\n",
            "user wins\n",
            "\n",
            "paper vs paper\n",
            "draw\n",
            "\n",
            "paper vs paper\n",
            "draw\n",
            "\n",
            "stone vs scissor\n",
            "comp wins\n",
            "\n",
            "stone vs stone\n",
            "draw\n",
            "\n",
            "scissor vs stone\n",
            "user wins\n",
            "\n",
            "your score is 2 out of 3\n",
            "total draw = 4\n"
          ]
        }
      ]
    },
    {
      "cell_type": "markdown",
      "source": [
        "demonstration and checking the profit percentage"
      ],
      "metadata": {
        "id": "9-b_aDNDKcAZ"
      }
    },
    {
      "cell_type": "code",
      "source": [
        "from random import choice\n",
        "\n",
        "comp_list = ['stone' ,'paper', 'scissor']\n",
        "\n",
        "total_scores=[]\n",
        "for x in range(10):\n",
        "    score = []\n",
        "    rounds = 10\n",
        "    for r in range(rounds):\n",
        "        comp_choice = choice(comp_list)\n",
        "        user_input = choice(comp_list)\n",
        "        #user_input = 'scissor'\n",
        "        #print (f\"{comp_choice} vs {user_input}\")\n",
        "\n",
        "        if user_input == comp_choice:\n",
        "            #print(\"draw\\n\")\n",
        "            pass\n",
        "        elif (user_input == 'stone' and comp_choice =='paper') or (user_input == 'scissor' and comp_choice =='stone') or (user_input == 'paper' and comp_choice =='scissor'):\n",
        "            #print(\"comp wins\\n\")\n",
        "            score.append(0)\n",
        "        else:\n",
        "           #print(\"user wins\\n\" )\n",
        "           score.append(1)\n",
        "    total_scores.append(sum(score))\n",
        "    #print (f\"your score is {sum(score)} out of {rounds}\")\n",
        "#print ()\n",
        "\n",
        "from statistics import mean\n",
        "thresh = 40\n",
        "final_score = mean(total_scores)*10\n",
        "if final_score < thresh:\n",
        "    print (f\"your percentage average {final_score} which is less than {thresh}\" )\n",
        "    print(\"you loose\")\n",
        "elif final_score == thresh:\n",
        "    print (f\"your percentage average {final_score} and thresh {thresh} are equal so it's a draw\" )\n",
        "else:\n",
        "    print (f\"your percentage average {final_score} which is greater than {thresh}\" )\n",
        "    print(\"you won\")"
      ],
      "metadata": {
        "colab": {
          "base_uri": "https://localhost:8080/"
        },
        "id": "rz8-YFYU7Gcu",
        "outputId": "fa828fc0-03a9-4696-bb8b-ea2f41dfec6b"
      },
      "execution_count": null,
      "outputs": [
        {
          "output_type": "stream",
          "name": "stdout",
          "text": [
            "your percentage average 35.0 which is less than 40\n",
            "you loose\n"
          ]
        }
      ]
    },
    {
      "cell_type": "markdown",
      "source": [
        "Dice"
      ],
      "metadata": {
        "id": "O8OUheZsuD0f"
      }
    },
    {
      "cell_type": "code",
      "source": [
        "import random \n",
        "num = random.randint(1,6)\n",
        "num"
      ],
      "metadata": {
        "colab": {
          "base_uri": "https://localhost:8080/"
        },
        "id": "1MjyChjluKCo",
        "outputId": "16ab74ad-177f-4e93-c951-085d26f6b2e7"
      },
      "execution_count": null,
      "outputs": [
        {
          "output_type": "execute_result",
          "data": {
            "text/plain": [
              "6"
            ]
          },
          "metadata": {},
          "execution_count": 47
        }
      ]
    },
    {
      "cell_type": "markdown",
      "source": [
        "\n",
        "\n",
        "---\n",
        "\n"
      ],
      "metadata": {
        "id": "fLT-vNneUjc7"
      }
    },
    {
      "cell_type": "markdown",
      "source": [
        "Create a class medicine to get the medicine data \n",
        "\n",
        "Create a class solution to provide the solution for the problem \n",
        "with the help o class method \n",
        "\n",
        "we are taking the list of data and if the disease in the list are similar to the user input then we are providing the price of the medicine"
      ],
      "metadata": {
        "id": "f7W2O4Ozj4oV"
      }
    },
    {
      "cell_type": "code",
      "source": [
        "class Medicine :\n",
        "  def __init__(self,MedicineName,batch,disease,price):\n",
        "    self.MedicineName = MedicineName\n",
        "    self.batch = batch \n",
        "    self.disease = disease\n",
        "    self.price = price\n",
        "\n",
        "class Solution:\n",
        "  @classmethod\n",
        "  def getPriceByDisease(cls,list_Med,dis):\n",
        "    result = []\n",
        "    for i in list_Med:\n",
        "      if i.disease.lower() == dis.lower():\n",
        "        result.append(i.price)\n",
        "    return result  \n"
      ],
      "metadata": {
        "id": "kUR5wAWkUk-j"
      },
      "execution_count": 28,
      "outputs": []
    },
    {
      "cell_type": "code",
      "source": [
        "n = int(input())\n",
        "list_Med = []\n",
        "for i in range(n):\n",
        "  MedicineName = input()\n",
        "  batch = input() \n",
        "  disease = input()\n",
        "  price = int(input())\n",
        "  list_Med.append(Medicine(MedicineName,batch,disease,price))\n",
        "\n",
        "dis = input()\n",
        "answer = Solution.getPriceByDisease(list_Med,dis)\n",
        "answer\n",
        "for j in answer:\n",
        "  print(j)"
      ],
      "metadata": {
        "colab": {
          "base_uri": "https://localhost:8080/"
        },
        "id": "knUvx5FcVD5Y",
        "outputId": "04d41c9a-d6d6-47d9-f5b9-305124f9fab0"
      },
      "execution_count": 33,
      "outputs": [
        {
          "output_type": "stream",
          "name": "stdout",
          "text": [
            "3\n",
            "m1\n",
            "b1\n",
            "fever\n",
            "150\n",
            "m2\n",
            "b2\n",
            "Fever\n",
            "200\n",
            "m3\n",
            "b3\n",
            "FeVER\n",
            "1000\n",
            "fever\n",
            "150\n",
            "200\n",
            "1000\n"
          ]
        }
      ]
    }
  ]
}